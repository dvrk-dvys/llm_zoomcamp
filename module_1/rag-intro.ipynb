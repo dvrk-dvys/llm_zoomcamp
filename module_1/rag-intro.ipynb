{
 "cells": [
  {
   "cell_type": "code",
   "id": "initial_id",
   "metadata": {
    "collapsed": true,
    "ExecuteTime": {
     "end_time": "2025-06-04T17:52:41.373999Z",
     "start_time": "2025-06-04T17:52:40.823886Z"
    }
   },
   "source": [
    "#from module_1.homework import response\n",
    "!wget https://raw.githubusercontent.com/alexeygrigorev/minsearch/refs/heads/main/minsearch.py"
   ],
   "outputs": [
    {
     "name": "stdout",
     "output_type": "stream",
     "text": [
      "--2025-06-04 19:52:40--  https://raw.githubusercontent.com/alexeygrigorev/minsearch/refs/heads/main/minsearch.py\r\n",
      "Resolving raw.githubusercontent.com (raw.githubusercontent.com)... 185.199.110.133, 185.199.111.133, 185.199.109.133, ...\r\n",
      "Connecting to raw.githubusercontent.com (raw.githubusercontent.com)|185.199.110.133|:443... connected.\r\n",
      "HTTP request sent, awaiting response... 200 OK\r\n",
      "Length: 3832 (3.7K) [text/plain]\r\n",
      "Saving to: ‘minsearch.py’\r\n",
      "\r\n",
      "minsearch.py        100%[===================>]   3.74K  --.-KB/s    in 0s      \r\n",
      "\r\n",
      "2025-06-04 19:52:41 (10.8 MB/s) - ‘minsearch.py’ saved [3832/3832]\r\n",
      "\r\n"
     ]
    }
   ],
   "execution_count": 1
  },
  {
   "metadata": {
    "ExecuteTime": {
     "end_time": "2025-06-04T17:57:09.304519Z",
     "start_time": "2025-06-04T17:56:45.019648Z"
    }
   },
   "cell_type": "code",
   "source": "import minsearch",
   "id": "604c9986e5a77aab",
   "outputs": [],
   "execution_count": 2
  },
  {
   "metadata": {
    "ExecuteTime": {
     "end_time": "2025-06-04T17:57:09.936905Z",
     "start_time": "2025-06-04T17:57:09.928904Z"
    }
   },
   "cell_type": "code",
   "source": "import json",
   "id": "b7f53e30d180e02b",
   "outputs": [],
   "execution_count": 3
  },
  {
   "metadata": {
    "ExecuteTime": {
     "end_time": "2025-06-04T17:57:47.000310Z",
     "start_time": "2025-06-04T17:57:46.982033Z"
    }
   },
   "cell_type": "code",
   "source": [
    "with open('documents.json', 'rt') as f_in:\n",
    "    doc_raw = json.load(f_in)"
   ],
   "id": "e3609a7bf2fe0d5c",
   "outputs": [],
   "execution_count": 5
  },
  {
   "metadata": {
    "ExecuteTime": {
     "end_time": "2025-06-04T17:59:54.749298Z",
     "start_time": "2025-06-04T17:59:54.735057Z"
    }
   },
   "cell_type": "code",
   "source": [
    "documents = []\n",
    "\n",
    "for course_dict in doc_raw:\n",
    "    for doc in course_dict['documents']:\n",
    "        doc['course'] = course_dict['course']\n",
    "        documents.append(doc)"
   ],
   "id": "e78eb3b640132907",
   "outputs": [],
   "execution_count": 6
  },
  {
   "metadata": {
    "ExecuteTime": {
     "end_time": "2025-06-04T18:00:10.382215Z",
     "start_time": "2025-06-04T18:00:10.363927Z"
    }
   },
   "cell_type": "code",
   "source": "documents[0]",
   "id": "3cbceeb8141db6e3",
   "outputs": [
    {
     "data": {
      "text/plain": [
       "{'text': \"The purpose of this document is to capture frequently asked technical questions\\nThe exact day and hour of the course will be 15th Jan 2024 at 17h00. The course will start with the first  “Office Hours'' live.1\\nSubscribe to course public Google Calendar (it works from Desktop only).\\nRegister before the course starts using this link.\\nJoin the course Telegram channel with announcements.\\nDon’t forget to register in DataTalks.Club's Slack and join the channel.\",\n",
       " 'section': 'General course-related questions',\n",
       " 'question': 'Course - When will the course start?',\n",
       " 'course': 'data-engineering-zoomcamp'}"
      ]
     },
     "execution_count": 7,
     "metadata": {},
     "output_type": "execute_result"
    }
   ],
   "execution_count": 7
  },
  {
   "metadata": {
    "ExecuteTime": {
     "end_time": "2025-06-04T18:07:49.160487Z",
     "start_time": "2025-06-04T18:07:49.122574Z"
    }
   },
   "cell_type": "code",
   "source": [
    "index = minsearch.Index(\n",
    "    text_fields=[\"question\", \"text\", \"section\"],\n",
    "    keyword_fields=[\"course\"]\n",
    ")"
   ],
   "id": "cc57be371ba2511a",
   "outputs": [],
   "execution_count": 8
  },
  {
   "metadata": {
    "ExecuteTime": {
     "end_time": "2025-06-04T18:07:51.022601Z",
     "start_time": "2025-06-04T18:07:50.994380Z"
    }
   },
   "cell_type": "code",
   "source": "SELECT * WHERE course = 'data-engineering-zoomcamp';",
   "id": "f7532a787f05519",
   "outputs": [
    {
     "ename": "SyntaxError",
     "evalue": "invalid syntax (580926268.py, line 1)",
     "output_type": "error",
     "traceback": [
      "\u001B[0;36m  Cell \u001B[0;32mIn[9], line 1\u001B[0;36m\u001B[0m\n\u001B[0;31m    SELECT * WHERE course = 'data-engineering-zoomcamp';\u001B[0m\n\u001B[0m                   ^\u001B[0m\n\u001B[0;31mSyntaxError\u001B[0m\u001B[0;31m:\u001B[0m invalid syntax\n"
     ]
    }
   ],
   "execution_count": 9
  },
  {
   "metadata": {
    "ExecuteTime": {
     "end_time": "2025-06-04T18:07:52.957542Z",
     "start_time": "2025-06-04T18:07:52.949700Z"
    }
   },
   "cell_type": "code",
   "source": "q = 'The course has already started, can I still enroll?'",
   "id": "d8a4aba2ab13146",
   "outputs": [],
   "execution_count": 10
  },
  {
   "metadata": {
    "ExecuteTime": {
     "end_time": "2025-06-04T18:07:54.458925Z",
     "start_time": "2025-06-04T18:07:54.290229Z"
    }
   },
   "cell_type": "code",
   "source": "index.fit(documents)",
   "id": "83d76111f582db6c",
   "outputs": [
    {
     "data": {
      "text/plain": [
       "<minsearch.Index at 0x1225b7be0>"
      ]
     },
     "execution_count": 11,
     "metadata": {},
     "output_type": "execute_result"
    }
   ],
   "execution_count": 11
  },
  {
   "metadata": {
    "ExecuteTime": {
     "end_time": "2025-06-04T18:40:51.394850Z",
     "start_time": "2025-06-04T18:40:51.302899Z"
    }
   },
   "cell_type": "code",
   "source": [
    "boost = {'question': 3.0, 'section': 0.5}\n",
    "\n",
    "results = index.search(\n",
    "    query=q,\n",
    "    filter_dict= {'course': 'data-engineering-zoomcamp'},\n",
    "    boost_dict=boost,\n",
    "    num_results=5\n",
    ")"
   ],
   "id": "7f342fad648006f7",
   "outputs": [],
   "execution_count": 23
  },
  {
   "metadata": {
    "ExecuteTime": {
     "end_time": "2025-06-04T18:40:53.118323Z",
     "start_time": "2025-06-04T18:40:53.105996Z"
    }
   },
   "cell_type": "code",
   "source": "from openai import OpenAI",
   "id": "615e71692bbf7938",
   "outputs": [],
   "execution_count": 24
  },
  {
   "metadata": {
    "ExecuteTime": {
     "end_time": "2025-06-04T18:40:54.232802Z",
     "start_time": "2025-06-04T18:40:54.177351Z"
    }
   },
   "cell_type": "code",
   "source": "client = OpenAI()\n",
   "id": "aa6f49c17599a73c",
   "outputs": [],
   "execution_count": 25
  },
  {
   "metadata": {
    "ExecuteTime": {
     "end_time": "2025-06-04T18:40:55.426865Z",
     "start_time": "2025-06-04T18:40:55.419884Z"
    }
   },
   "cell_type": "code",
   "source": "q",
   "id": "4416ddbb76d5d9e5",
   "outputs": [
    {
     "data": {
      "text/plain": [
       "'The course has already started, can I still enroll?'"
      ]
     },
     "execution_count": 26,
     "metadata": {},
     "output_type": "execute_result"
    }
   ],
   "execution_count": 26
  },
  {
   "metadata": {
    "ExecuteTime": {
     "end_time": "2025-06-04T18:41:01.171271Z",
     "start_time": "2025-06-04T18:40:57.053189Z"
    }
   },
   "cell_type": "code",
   "source": [
    "response = client.chat.completions.create(\n",
    "    model='gpt-4o',\n",
    "    messages=[{\"role\": \"user\", \"content\": q}]\n",
    ")"
   ],
   "id": "59886714092ec04e",
   "outputs": [],
   "execution_count": 27
  },
  {
   "metadata": {
    "ExecuteTime": {
     "end_time": "2025-06-04T18:41:01.283571Z",
     "start_time": "2025-06-04T18:41:01.279677Z"
    }
   },
   "cell_type": "code",
   "source": "response.choices[0].message.content",
   "id": "8c9a9bb2db85aef5",
   "outputs": [
    {
     "data": {
      "text/plain": [
       "\"Whether you can still enroll in a course that has already started will depend on the institution or platform offering the course. Here are some steps you can take to find out:\\n\\n1. **Check the Course Website**: Look for any information about late enrollment policies on the course's official website or listing.\\n\\n2. **Contact the Instructor**: Reach out to the instructor or course coordinator to ask if they are willing to accept late enrollments.\\n\\n3. **Speak with the Admissions Office**: If it's a university or college course, contact the admissions office or registrar for more information.\\n\\n4. **Consider Auditing**: If you can't officially enroll, ask if it's possible to audit the course, which allows you to attend without receiving credit.\\n\\n5. **Look for Online Options**: Some online platforms may allow you to join classes at your own pace, even after the official start date.\\n\\nAlways act quickly, as there might be deadlines for adding courses late, and try to explain your circumstances to facilitate the process.\""
      ]
     },
     "execution_count": 29,
     "metadata": {},
     "output_type": "execute_result"
    }
   ],
   "execution_count": 29
  },
  {
   "metadata": {
    "ExecuteTime": {
     "end_time": "2025-06-04T18:44:24.513618Z",
     "start_time": "2025-06-04T18:44:24.495924Z"
    }
   },
   "cell_type": "code",
   "source": [
    "prompt_template = \"\"\"\n",
    "You're a course teaching assistant. Answer the QUESTION based on the CONTEXT. Use only the facts from the CONTEXT when answering the QUESTION. If the CONTEXT doesnt contain the answer, output NONE\n",
    "\n",
    "QUESTION: {question}\n",
    "\n",
    "CONTEXT: {context}\n",
    "\"\"\".strip()"
   ],
   "id": "63ff24203d80875a",
   "outputs": [],
   "execution_count": 36
  },
  {
   "metadata": {
    "ExecuteTime": {
     "end_time": "2025-06-04T18:44:40.690727Z",
     "start_time": "2025-06-04T18:44:40.682014Z"
    }
   },
   "cell_type": "code",
   "source": [
    "context = \"\"\n",
    "\n",
    "for doc in results:\n",
    "    context = context + f\"section: {doc['section']}\\nquestion: {doc['question']}\\nanswer: {doc['text']}\\n\\n\""
   ],
   "id": "40d8a94e0b6d795b",
   "outputs": [],
   "execution_count": 37
  },
  {
   "metadata": {
    "ExecuteTime": {
     "end_time": "2025-06-04T18:45:23.276565Z",
     "start_time": "2025-06-04T18:45:23.272772Z"
    }
   },
   "cell_type": "code",
   "source": "prompt = prompt_template.format(question=q, context=context).strip()",
   "id": "d58a2df17cee7f4a",
   "outputs": [],
   "execution_count": 40
  },
  {
   "metadata": {
    "ExecuteTime": {
     "end_time": "2025-06-04T18:45:25.315126Z",
     "start_time": "2025-06-04T18:45:25.302527Z"
    }
   },
   "cell_type": "code",
   "source": "print(prompt)",
   "id": "b58de59075002300",
   "outputs": [
    {
     "name": "stdout",
     "output_type": "stream",
     "text": [
      "You're a course teaching assistant. Answer the QUESTION based on the CONTEXT. Use only the facts from the CONTEXT when answering the QUESTION. If the CONTEXT doesnt contain the answer, output NONE\n",
      "\n",
      "QUESTION: The course has already started, can I still enroll?\n",
      "\n",
      "CONTEXT: section: General course-related questions\n",
      "question: Course - Can I still join the course after the start date?\n",
      "answer: Yes, even if you don't register, you're still eligible to submit the homeworks.\n",
      "Be aware, however, that there will be deadlines for turning in the final projects. So don't leave everything for the last minute.\n",
      "\n",
      "section: General course-related questions\n",
      "question: Course - Can I follow the course after it finishes?\n",
      "answer: Yes, we will keep all the materials after the course finishes, so you can follow the course at your own pace after it finishes.\n",
      "You can also continue looking at the homeworks and continue preparing for the next cohort. I guess you can also start working on your final capstone project.\n",
      "\n",
      "section: General course-related questions\n",
      "question: Course - When will the course start?\n",
      "answer: The purpose of this document is to capture frequently asked technical questions\n",
      "The exact day and hour of the course will be 15th Jan 2024 at 17h00. The course will start with the first  “Office Hours'' live.1\n",
      "Subscribe to course public Google Calendar (it works from Desktop only).\n",
      "Register before the course starts using this link.\n",
      "Join the course Telegram channel with announcements.\n",
      "Don’t forget to register in DataTalks.Club's Slack and join the channel.\n",
      "\n",
      "section: General course-related questions\n",
      "question: Course - What can I do before the course starts?\n",
      "answer: You can start by installing and setting up all the dependencies and requirements:\n",
      "Google cloud account\n",
      "Google Cloud SDK\n",
      "Python 3 (installed with Anaconda)\n",
      "Terraform\n",
      "Git\n",
      "Look over the prerequisites and syllabus to see if you are comfortable with these subjects.\n",
      "\n",
      "section: General course-related questions\n",
      "question: Course - Can I get support if I take the course in the self-paced mode?\n",
      "answer: Yes, the slack channel remains open and you can ask questions there. But always sDocker containers exit code w search the channel first and second, check the FAQ (this document), most likely all your questions are already answered here.\n",
      "You can also tag the bot @ZoomcampQABot to help you conduct the search, but don’t rely on its answers 100%, it is pretty good though.\n"
     ]
    }
   ],
   "execution_count": 41
  },
  {
   "metadata": {
    "ExecuteTime": {
     "end_time": "2025-06-04T18:47:51.649281Z",
     "start_time": "2025-06-04T18:47:49.340140Z"
    }
   },
   "cell_type": "code",
   "source": [
    "response = client.chat.completions.create(\n",
    "    model='gpt-4o',\n",
    "    messages=[{\"role\": \"user\", \"content\": prompt}]\n",
    ")\n",
    "\n",
    "response.choices[0].message.content"
   ],
   "id": "1ad025cd69a563c",
   "outputs": [
    {
     "data": {
      "text/plain": [
       "\"Yes, you can still enroll in the course after it has started. Even if you don't register right away, you're still eligible to submit the homeworks. However, be aware that there will be deadlines for turning in the final projects, so it is advisable not to leave everything for the last minute.\""
      ]
     },
     "execution_count": 42,
     "metadata": {},
     "output_type": "execute_result"
    }
   ],
   "execution_count": 42
  }
 ],
 "metadata": {
  "kernelspec": {
   "display_name": "Python 3",
   "language": "python",
   "name": "python3"
  },
  "language_info": {
   "codemirror_mode": {
    "name": "ipython",
    "version": 2
   },
   "file_extension": ".py",
   "mimetype": "text/x-python",
   "name": "python",
   "nbconvert_exporter": "python",
   "pygments_lexer": "ipython2",
   "version": "2.7.6"
  }
 },
 "nbformat": 4,
 "nbformat_minor": 5
}
