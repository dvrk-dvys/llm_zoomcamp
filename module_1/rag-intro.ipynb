{
 "cells": [
  {
   "cell_type": "code",
   "id": "initial_id",
   "metadata": {
    "collapsed": true,
    "ExecuteTime": {
     "end_time": "2025-06-04T20:31:10.765121Z",
     "start_time": "2025-06-04T20:31:10.323526Z"
    }
   },
   "source": [
    "#from module_1.homework import response\n",
    "!wget https://raw.githubusercontent.com/alexeygrigorev/minsearch/refs/heads/main/minsearch.py"
   ],
   "outputs": [
    {
     "name": "stdout",
     "output_type": "stream",
     "text": [
      "--2025-06-04 22:31:10--  https://raw.githubusercontent.com/alexeygrigorev/minsearch/refs/heads/main/minsearch.py\r\n",
      "Resolving raw.githubusercontent.com (raw.githubusercontent.com)... 185.199.110.133, 185.199.111.133, 185.199.109.133, ...\r\n",
      "Connecting to raw.githubusercontent.com (raw.githubusercontent.com)|185.199.110.133|:443... connected.\r\n",
      "HTTP request sent, awaiting response... 200 OK\r\n",
      "Length: 3832 (3.7K) [text/plain]\r\n",
      "Saving to: ‘minsearch.py.4’\r\n",
      "\r\n",
      "minsearch.py.4      100%[===================>]   3.74K  --.-KB/s    in 0s      \r\n",
      "\r\n",
      "2025-06-04 22:31:10 (24.0 MB/s) - ‘minsearch.py.4’ saved [3832/3832]\r\n",
      "\r\n"
     ]
    }
   ],
   "execution_count": 1
  },
  {
   "metadata": {
    "ExecuteTime": {
     "end_time": "2025-06-04T20:31:11.776206Z",
     "start_time": "2025-06-04T20:31:10.777904Z"
    }
   },
   "cell_type": "code",
   "source": "import minsearch",
   "id": "604c9986e5a77aab",
   "outputs": [],
   "execution_count": 2
  },
  {
   "metadata": {
    "ExecuteTime": {
     "end_time": "2025-06-04T20:31:11.880450Z",
     "start_time": "2025-06-04T20:31:11.878734Z"
    }
   },
   "cell_type": "code",
   "source": "import json",
   "id": "b7f53e30d180e02b",
   "outputs": [],
   "execution_count": 3
  },
  {
   "metadata": {
    "ExecuteTime": {
     "end_time": "2025-06-04T20:31:11.912792Z",
     "start_time": "2025-06-04T20:31:11.907355Z"
    }
   },
   "cell_type": "code",
   "source": [
    "with open('documents.json', 'rt') as f_in:\n",
    "    doc_raw = json.load(f_in)"
   ],
   "id": "e3609a7bf2fe0d5c",
   "outputs": [],
   "execution_count": 4
  },
  {
   "metadata": {
    "ExecuteTime": {
     "end_time": "2025-06-04T20:31:11.923829Z",
     "start_time": "2025-06-04T20:31:11.921113Z"
    }
   },
   "cell_type": "code",
   "source": [
    "documents = []\n",
    "\n",
    "for course_dict in doc_raw:\n",
    "    for doc in course_dict['documents']:\n",
    "        doc['course'] = course_dict['course']\n",
    "        documents.append(doc)"
   ],
   "id": "e78eb3b640132907",
   "outputs": [],
   "execution_count": 5
  },
  {
   "metadata": {
    "ExecuteTime": {
     "end_time": "2025-06-08T15:14:52.653168Z",
     "start_time": "2025-06-08T15:14:52.494552Z"
    }
   },
   "cell_type": "code",
   "source": "documents",
   "id": "3cbceeb8141db6e3",
   "outputs": [
    {
     "ename": "NameError",
     "evalue": "name 'documents' is not defined",
     "output_type": "error",
     "traceback": [
      "\u001B[0;31m---------------------------------------------------------------------------\u001B[0m",
      "\u001B[0;31mNameError\u001B[0m                                 Traceback (most recent call last)",
      "Cell \u001B[0;32mIn[2], line 1\u001B[0m\n\u001B[0;32m----> 1\u001B[0m \u001B[43mdocuments\u001B[49m\n",
      "\u001B[0;31mNameError\u001B[0m: name 'documents' is not defined"
     ]
    }
   ],
   "execution_count": 2
  },
  {
   "metadata": {
    "ExecuteTime": {
     "end_time": "2025-06-04T20:38:53.884923Z",
     "start_time": "2025-06-04T20:38:53.870956Z"
    }
   },
   "cell_type": "code",
   "source": [
    "index = minsearch.Index(\n",
    "    text_fields=[\"question\", \"text\", \"section\"],\n",
    "    keyword_fields=[\"course\"]\n",
    ")"
   ],
   "id": "cc57be371ba2511a",
   "outputs": [
    {
     "name": "stdout",
     "output_type": "stream",
     "text": [
      "<minsearch.Index object at 0x1188579d0>\n"
     ]
    }
   ],
   "execution_count": 27
  },
  {
   "metadata": {
    "ExecuteTime": {
     "end_time": "2025-06-04T20:31:13.519338Z",
     "start_time": "2025-06-04T20:31:13.511489Z"
    }
   },
   "cell_type": "code",
   "source": "#SELECT * WHERE course = 'data-engineering-zoomcamp';",
   "id": "f7532a787f05519",
   "outputs": [],
   "execution_count": 8
  },
  {
   "metadata": {
    "ExecuteTime": {
     "end_time": "2025-06-04T20:31:13.623187Z",
     "start_time": "2025-06-04T20:31:13.535807Z"
    }
   },
   "cell_type": "code",
   "source": "index.fit(documents)",
   "id": "83d76111f582db6c",
   "outputs": [
    {
     "data": {
      "text/plain": [
       "<minsearch.Index at 0x10e328340>"
      ]
     },
     "execution_count": 9,
     "metadata": {},
     "output_type": "execute_result"
    }
   ],
   "execution_count": 9
  },
  {
   "metadata": {
    "ExecuteTime": {
     "end_time": "2025-06-04T20:31:14.244810Z",
     "start_time": "2025-06-04T20:31:13.643894Z"
    }
   },
   "cell_type": "code",
   "source": "from openai import OpenAI",
   "id": "615e71692bbf7938",
   "outputs": [],
   "execution_count": 10
  },
  {
   "metadata": {
    "ExecuteTime": {
     "end_time": "2025-06-04T20:31:14.304751Z",
     "start_time": "2025-06-04T20:31:14.253440Z"
    }
   },
   "cell_type": "code",
   "source": "client = OpenAI()\n",
   "id": "aa6f49c17599a73c",
   "outputs": [],
   "execution_count": 11
  },
  {
   "metadata": {
    "ExecuteTime": {
     "end_time": "2025-06-04T20:31:14.313555Z",
     "start_time": "2025-06-04T20:31:14.311079Z"
    }
   },
   "cell_type": "code",
   "source": [
    "def search(query):\n",
    "    boost = {'question': 3.0, 'section': 0.5}\n",
    "\n",
    "    results = index.search(\n",
    "        query=query,\n",
    "        filter_dict= {'course': 'data-engineering-zoomcamp'},\n",
    "        boost_dict=boost,\n",
    "        num_results=10\n",
    "    )\n",
    "\n",
    "    return results\n"
   ],
   "id": "8b6072459414fbce",
   "outputs": [],
   "execution_count": 12
  },
  {
   "metadata": {
    "ExecuteTime": {
     "end_time": "2025-06-04T20:31:14.330047Z",
     "start_time": "2025-06-04T20:31:14.323641Z"
    }
   },
   "cell_type": "code",
   "source": [
    "def build_prompt (query, search_results):\n",
    "    prompt_template = \"\"\"\n",
    "You're a course teaching assistant. Answer the QUESTION based on the CONTEXT. Use only the facts from the CONTEXT when answering the QUESTION. If you cannot find a direct answer then try to formulate a response based on what is relevant in the CONTEXT.\n",
    "\n",
    "If the CONTEXT completely doesnt contain the answer or anything similar, output NONE\n",
    "\n",
    "QUESTION: {question}\n",
    "\n",
    "CONTEXT: {context}\n",
    "\"\"\".strip()\n",
    "\n",
    "    context = \"\"\n",
    "\n",
    "    for doc in search_results:\n",
    "        context = context + f\"section: {doc['section']}\\nquestion: {doc['question']}\\nanswer: {doc['text']}\\n\\n\"\n",
    "\n",
    "    prompt = prompt_template.format(question=query, context=context).strip()\n",
    "    return prompt\n"
   ],
   "id": "27310753976f8bd6",
   "outputs": [],
   "execution_count": 13
  },
  {
   "metadata": {
    "ExecuteTime": {
     "end_time": "2025-06-04T20:31:14.340954Z",
     "start_time": "2025-06-04T20:31:14.338058Z"
    }
   },
   "cell_type": "code",
   "source": [
    "def llm(prompt):\n",
    "    response = client.chat.completions.create(\n",
    "        model='gpt-4o',\n",
    "        messages=[{\"role\": \"user\", \"content\": prompt}]\n",
    "    )\n",
    "\n",
    "    return response.choices[0].message.content"
   ],
   "id": "956438a9379c6eaf",
   "outputs": [],
   "execution_count": 14
  },
  {
   "metadata": {},
   "cell_type": "markdown",
   "source": "",
   "id": "dae20fa30280345f"
  },
  {
   "metadata": {
    "ExecuteTime": {
     "end_time": "2025-06-04T20:31:15.927942Z",
     "start_time": "2025-06-04T20:31:14.372723Z"
    }
   },
   "cell_type": "code",
   "source": [
    "def rag(query):\n",
    "    search_results = search(query)\n",
    "    prompt = build_prompt(query, search_results)\n",
    "    answer = llm(prompt)\n",
    "\n",
    "    #print('_________Prompt_________')\n",
    "    #print(prompt)\n",
    "    #print('_________answer_________')\n",
    "    #print(answer)\n",
    "    #print('_________search_results_________')\n",
    "    #print(search_results)\n",
    "\n",
    "    return answer\n"
   ],
   "id": "5081cc48ee5cb80a",
   "outputs": [
    {
     "data": {
      "text/plain": [
       "\"Yes, you can still enroll after the course has started. You are eligible to submit the homework even if you haven't registered. However, be mindful of the deadlines for turning in the final projects, so don't leave everything for the last minute.\""
      ]
     },
     "execution_count": 16,
     "metadata": {},
     "output_type": "execute_result"
    }
   ],
   "execution_count": 16
  },
  {
   "metadata": {
    "ExecuteTime": {
     "end_time": "2025-06-04T20:31:17.907567Z",
     "start_time": "2025-06-04T20:31:15.942208Z"
    }
   },
   "cell_type": "code",
   "source": "rag('The course has already started, can i still enroll?')\n",
   "id": "b76b131db7809ac3",
   "outputs": [
    {
     "data": {
      "text/plain": [
       "'To run the Kafka Python producer, follow these steps:\\n\\n1. **Create a Virtual Environment**: This should be done preferably in the directory where your `producer.py` file is located.\\n\\n   ```\\n   python -m venv env\\n   ```\\n\\n2. **Activate the Virtual Environment**: The command varies slightly depending on your operating system.\\n\\n   - On MacOS and Linux:\\n     ```\\n     source env/bin/activate\\n     ```\\n\\n   - On Windows:\\n     ```\\n     env\\\\Scripts\\\\activate\\n     ```\\n\\n3. **Install Dependencies**: Make sure to have a `requirements.txt` file that includes all necessary dependencies, then use the following command to install them.\\n\\n   ```\\n   pip install -r ../requirements.txt\\n   ```\\n\\n4. **Run Docker Services**: Ensure that all necessary Docker images and services are up and running before executing your Python file.\\n\\n   ```\\n   docker-compose up\\n   ```\\n\\nFollowing these steps will prepare your environment to run the Kafka Python producer. If you encounter a `KafkaTimeoutError`, try restarting all services using:\\n\\n```\\ndocker-compose down\\ndocker-compose up\\n```\\n\\nThis should help resolve the metadata update timeout issue.'"
      ]
     },
     "execution_count": 17,
     "metadata": {},
     "output_type": "execute_result"
    }
   ],
   "execution_count": 17
  },
  {
   "metadata": {
    "ExecuteTime": {
     "end_time": "2025-06-04T20:31:44.704985Z",
     "start_time": "2025-06-04T20:31:44.426339Z"
    }
   },
   "cell_type": "code",
   "source": "rag('How do I run the Kafka Python producer?')\n",
   "id": "25c44c598a1741cc",
   "outputs": [
    {
     "name": "stdout",
     "output_type": "stream",
     "text": [
      "{'name': '2053dda8ab2a', 'cluster_name': 'docker-cluster', 'cluster_uuid': '31iMmRKuSqSoH8B8JVF2ow', 'version': {'number': '7.17.13', 'build_flavor': 'default', 'build_type': 'docker', 'build_hash': '2b211dbb8bfdecaf7f5b44d356bdfe54b1050c13', 'build_date': '2023-08-31T17:33:19.958690787Z', 'build_snapshot': False, 'lucene_version': '8.11.1', 'minimum_wire_compatibility_version': '6.8.0', 'minimum_index_compatibility_version': '6.0.0-beta1'}, 'tagline': 'You Know, for Search'}\n"
     ]
    }
   ],
   "execution_count": 19
  },
  {
   "metadata": {
    "ExecuteTime": {
     "end_time": "2025-06-04T20:31:47.486051Z",
     "start_time": "2025-06-04T20:31:47.243593Z"
    }
   },
   "cell_type": "code",
   "source": [
    "from elasticsearch import Elasticsearch\n",
    "\n",
    "es_client = Elasticsearch(\n",
    "    \"http://localhost:9200\"\n",
    ")\n",
    "\n",
    "print(es_client.info())\n"
   ],
   "id": "a92c96f71c56b86c",
   "outputs": [
    {
     "name": "stderr",
     "output_type": "stream",
     "text": [
      "/var/folders/_r/_94p_t6s1933ynymfxl25_7h0000gn/T/ipykernel_17962/805618838.py:17: DeprecationWarning: The 'body' parameter is deprecated and will be removed in a future version. Instead use individual parameters.\n",
      "  es_client.indices.create(index=index_name, body=index_settings)\n"
     ]
    },
    {
     "data": {
      "text/plain": [
       "ObjectApiResponse({'acknowledged': True, 'shards_acknowledged': True, 'index': 'course-questions'})"
      ]
     },
     "execution_count": 20,
     "metadata": {},
     "output_type": "execute_result"
    }
   ],
   "execution_count": 20
  },
  {
   "metadata": {
    "ExecuteTime": {
     "end_time": "2025-06-04T20:34:05.189765Z",
     "start_time": "2025-06-04T20:34:05.107165Z"
    }
   },
   "cell_type": "code",
   "source": [
    "index_settings = {\n",
    "    \"settings\": {\n",
    "        \"number_of_shards\": 1,\n",
    "        \"number_of_replicas\": 0\n",
    "    },\n",
    "    \"mappings\": {\n",
    "        \"properties\": {\n",
    "            \"text\": {\"type\": \"text\"},\n",
    "            \"section\": {\"type\": \"text\"},\n",
    "            \"question\": {\"type\": \"text\"},\n",
    "            \"course\": {\"type\": \"keyword\"}\n",
    "        }\n",
    "    }\n",
    "}\n",
    "\n",
    "index_name  = \"course-questions\"\n",
    "es_client.indices.create(index=index_name, body=index_settings)\n"
   ],
   "id": "34185c31eda474a",
   "outputs": [
    {
     "name": "stderr",
     "output_type": "stream",
     "text": [
      "/opt/homebrew/Caskroom/miniforge/base/envs/llm_zoomcamp/lib/python3.10/site-packages/tqdm/auto.py:21: TqdmWarning: IProgress not found. Please update jupyter and ipywidgets. See https://ipywidgets.readthedocs.io/en/stable/user_install.html\n",
      "  from .autonotebook import tqdm as notebook_tqdm\n"
     ]
    }
   ],
   "execution_count": 21
  },
  {
   "metadata": {
    "ExecuteTime": {
     "end_time": "2025-06-04T20:34:27.908413Z",
     "start_time": "2025-06-04T20:34:24.359050Z"
    }
   },
   "cell_type": "code",
   "source": "from tqdm.auto import tqdm",
   "id": "acd76f66d7b4e6d8",
   "outputs": [
    {
     "name": "stderr",
     "output_type": "stream",
     "text": [
      "100%|██████████| 948/948 [00:03<00:00, 269.10it/s]\n"
     ]
    }
   ],
   "execution_count": 22
  },
  {
   "metadata": {
    "ExecuteTime": {
     "end_time": "2025-06-04T20:51:27.505752Z",
     "start_time": "2025-06-04T20:51:27.498253Z"
    }
   },
   "cell_type": "code",
   "source": [
    "for doc in tqdm(documents):\n",
    "    es_client.index(index=index_name, document=doc)"
   ],
   "id": "a84f97b8c0b37c49",
   "outputs": [],
   "execution_count": 41
  },
  {
   "metadata": {
    "ExecuteTime": {
     "end_time": "2025-06-04T20:51:36.925966Z",
     "start_time": "2025-06-04T20:51:36.686657Z"
    }
   },
   "cell_type": "code",
   "source": [
    "def elastic_search(query):\n",
    "\n",
    "    search_query = {\n",
    "        \"size\": 5,\n",
    "        \"query\": {\n",
    "            \"bool\": {\n",
    "                \"must\": {\n",
    "                    \"multi_match\": {\n",
    "                        \"query\": query,\n",
    "                        \"fields\": [\"question^3\", \"text\", \"section\"],\n",
    "                        \"type\": \"best_fields\"\n",
    "                    }\n",
    "                },\n",
    "                \"filter\": {\n",
    "                    \"term\": {\n",
    "                        \"course\": \"data-engineering-zoomcamp\"\n",
    "                    }\n",
    "                }\n",
    "            }\n",
    "        }\n",
    "    }\n",
    "\n",
    "    response = es_client.search(index=index_name, body=search_query)\n",
    "    result_docs = []\n",
    "    for hit in response['hits']['hits']:\n",
    "        result_docs.append(hit['_source'])\n",
    "\n",
    "    return result_docs"
   ],
   "id": "598691c704a2c695",
   "outputs": [
    {
     "name": "stderr",
     "output_type": "stream",
     "text": [
      "/var/folders/_r/_94p_t6s1933ynymfxl25_7h0000gn/T/ipykernel_17962/3686858327.py:23: DeprecationWarning: The 'body' parameter is deprecated and will be removed in a future version. Instead use individual parameters.\n",
      "  response = es_client.search(index=index_name, body=search_query)\n"
     ]
    },
    {
     "data": {
      "text/plain": [
       "[{'text': \"Yes, even if you don't register, you're still eligible to submit the homeworks.\\nBe aware, however, that there will be deadlines for turning in the final projects. So don't leave everything for the last minute.\",\n",
       "  'section': 'General course-related questions',\n",
       "  'question': 'Course - Can I still join the course after the start date?',\n",
       "  'course': 'data-engineering-zoomcamp'},\n",
       " {'text': 'You can start by installing and setting up all the dependencies and requirements:\\nGoogle cloud account\\nGoogle Cloud SDK\\nPython 3 (installed with Anaconda)\\nTerraform\\nGit\\nLook over the prerequisites and syllabus to see if you are comfortable with these subjects.',\n",
       "  'section': 'General course-related questions',\n",
       "  'question': 'Course - What can I do before the course starts?',\n",
       "  'course': 'data-engineering-zoomcamp'},\n",
       " {'text': 'Yes, we will keep all the materials after the course finishes, so you can follow the course at your own pace after it finishes.\\nYou can also continue looking at the homeworks and continue preparing for the next cohort. I guess you can also start working on your final capstone project.',\n",
       "  'section': 'General course-related questions',\n",
       "  'question': 'Course - Can I follow the course after it finishes?',\n",
       "  'course': 'data-engineering-zoomcamp'},\n",
       " {'text': 'Yes, the slack channel remains open and you can ask questions there. But always sDocker containers exit code w search the channel first and second, check the FAQ (this document), most likely all your questions are already answered here.\\nYou can also tag the bot @ZoomcampQABot to help you conduct the search, but don’t rely on its answers 100%, it is pretty good though.',\n",
       "  'section': 'General course-related questions',\n",
       "  'question': 'Course - Can I get support if I take the course in the self-paced mode?',\n",
       "  'course': 'data-engineering-zoomcamp'},\n",
       " {'text': 'After you create a GitHub account, you should clone the course repo to your local machine using the process outlined in this video: Git for Everybody: How to Clone a Repository from GitHub\\nHaving this local repository on your computer will make it easy for you to access the instructors’ code and make pull requests (if you want to add your own notes or make changes to the course content).\\nYou will probably also create your own repositories that host your notes, versions of your file, to do this. Here is a great tutorial that shows you how to do this: https://www.atlassian.com/git/tutorials/setting-up-a-repository\\nRemember to ignore large database, .csv, and .gz files, and other files that should not be saved to a repository. Use .gitignore for this: https://www.atlassian.com/git/tutorials/saving-changes/gitignore NEVER store passwords or keys in a git repo (even if that repo is set to private).\\nThis is also a great resource: https://dangitgit.com/',\n",
       "  'section': 'General course-related questions',\n",
       "  'question': 'How do I use Git / GitHub for this course?',\n",
       "  'course': 'data-engineering-zoomcamp'}]"
      ]
     },
     "execution_count": 42,
     "metadata": {},
     "output_type": "execute_result"
    }
   ],
   "execution_count": 42
  },
  {
   "metadata": {},
   "cell_type": "code",
   "outputs": [],
   "execution_count": null,
   "source": [
    "query = 'I just discovered the course. Can i still join this cohort?'\n",
    "elastic_search(query)"
   ],
   "id": "a6c7a642c06c01ca"
  }
 ],
 "metadata": {
  "kernelspec": {
   "display_name": "Python 3",
   "language": "python",
   "name": "python3"
  },
  "language_info": {
   "codemirror_mode": {
    "name": "ipython",
    "version": 2
   },
   "file_extension": ".py",
   "mimetype": "text/x-python",
   "name": "python",
   "nbconvert_exporter": "python",
   "pygments_lexer": "ipython2",
   "version": "2.7.6"
  }
 },
 "nbformat": 4,
 "nbformat_minor": 5
}
