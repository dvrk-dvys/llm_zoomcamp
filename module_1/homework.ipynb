{
 "cells": [
  {
   "cell_type": "code",
   "id": "initial_id",
   "metadata": {
    "collapsed": true,
    "ExecuteTime": {
     "end_time": "2025-06-04T16:00:09.589942Z",
     "start_time": "2025-06-04T16:00:08.962973Z"
    }
   },
   "source": "import openai",
   "outputs": [],
   "execution_count": 1
  },
  {
   "metadata": {
    "jupyter": {
     "is_executing": true
    }
   },
   "cell_type": "code",
   "source": [
    "from openai import OpenAI\n",
    "import os\n",
    "#print(os.getenv(\"OPENAI_API_KEY\"))\n",
    "os.environ"
   ],
   "id": "2e9ae672fb956ed6",
   "outputs": [],
   "execution_count": null
  },
  {
   "metadata": {
    "ExecuteTime": {
     "end_time": "2025-06-04T16:03:32.285772Z",
     "start_time": "2025-06-04T16:03:32.203986Z"
    }
   },
   "cell_type": "code",
   "source": "client = OpenAI()",
   "id": "2792183201c57c50",
   "outputs": [],
   "execution_count": 4
  },
  {
   "metadata": {
    "ExecuteTime": {
     "end_time": "2025-06-04T16:10:13.969890Z",
     "start_time": "2025-06-04T16:10:07.560873Z"
    }
   },
   "cell_type": "code",
   "source": [
    "response = client.chat.completions.create(\n",
    "    model='gpt-4o',\n",
    "    messages=[{\"role\": \"user\", \"content\": \"Is it too late to join the llm_zoomcamp course?\" }]\n",
    ")"
   ],
   "id": "2f4d91fca48b8825",
   "outputs": [],
   "execution_count": 6
  },
  {
   "metadata": {
    "ExecuteTime": {
     "end_time": "2025-06-04T16:10:49.039768Z",
     "start_time": "2025-06-04T16:10:49.026300Z"
    }
   },
   "cell_type": "code",
   "source": "response.choices[0].message.content",
   "id": "ba508f5948f0a3e",
   "outputs": [
    {
     "data": {
      "text/plain": [
       "\"As of my last update in October 2023, I don't have specific information about the current status or registration deadlines for the LLM (Large Language Model) Zoomcamp course. The timing and availability for joining such courses can vary depending on the organization offering them.\\n\\nTo find out if it's too late to join the LLM Zoomcamp course, you should:\\n\\n1. **Check the Official Website or Communication Channels**: Look for any announcements or updates regarding enrollment deadlines or late registration policies.\\n\\n2. **Contact the Organizers**: Reach out directly to the organizers or facilitators of the course. They can provide the most accurate and up-to-date information regarding availability and registration.\\n\\n3. **Look for Community Discussions**: If there's a community forum or social media group related to the course, it might have information from other participants or updates from the organizers.\\n\\nIf you provide more specific details about the course provider, I might be able to guide you on where to look for information.\""
      ]
     },
     "execution_count": 8,
     "metadata": {},
     "output_type": "execute_result"
    }
   ],
   "execution_count": 8
  }
 ],
 "metadata": {
  "kernelspec": {
   "display_name": "Python 3",
   "language": "python",
   "name": "python3"
  },
  "language_info": {
   "codemirror_mode": {
    "name": "ipython",
    "version": 2
   },
   "file_extension": ".py",
   "mimetype": "text/x-python",
   "name": "python",
   "nbconvert_exporter": "python",
   "pygments_lexer": "ipython2",
   "version": "2.7.6"
  }
 },
 "nbformat": 4,
 "nbformat_minor": 5
}
