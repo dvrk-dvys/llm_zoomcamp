{
 "cells": [
  {
   "cell_type": "code",
   "id": "initial_id",
   "metadata": {
    "collapsed": true,
    "ExecuteTime": {
     "end_time": "2025-06-04T16:00:09.589942Z",
     "start_time": "2025-06-04T16:00:08.962973Z"
    }
   },
   "source": "import openai",
   "outputs": [],
   "execution_count": 1
  },
  {
   "metadata": {
    "jupyter": {
     "is_executing": true
    }
   },
   "cell_type": "code",
   "source": [
    "from openai import OpenAI\n",
    "import os\n",
    "#print(os.getenv(\"OPENAI_API_KEY\"))\n",
    "os.environ"
   ],
   "id": "2e9ae672fb956ed6",
   "outputs": [],
   "execution_count": null
  },
  {
   "metadata": {
    "ExecuteTime": {
     "end_time": "2025-06-04T16:03:32.285772Z",
     "start_time": "2025-06-04T16:03:32.203986Z"
    }
   },
   "cell_type": "code",
   "source": "client = OpenAI()",
   "id": "2792183201c57c50",
   "outputs": [],
   "execution_count": 4
  },
  {
   "metadata": {
    "ExecuteTime": {
     "end_time": "2025-06-04T16:10:13.969890Z",
     "start_time": "2025-06-04T16:10:07.560873Z"
    }
   },
   "cell_type": "code",
   "source": [
    "response = client.chat.completions.create(\n",
    "    model='gpt-4o',\n",
    "    messages=[{\"role\": \"user\", \"content\": \"Is it too late to join the llm_zoomcamp course?\" }]\n",
    ")"
   ],
   "id": "2f4d91fca48b8825",
   "outputs": [],
   "execution_count": 6
  },
  {
   "metadata": {
    "ExecuteTime": {
     "end_time": "2025-06-04T16:10:49.039768Z",
     "start_time": "2025-06-04T16:10:49.026300Z"
    }
   },
   "cell_type": "code",
   "source": "response.choices[0].message.content",
   "id": "ba508f5948f0a3e",
   "outputs": [
    {
     "data": {
      "text/plain": [
       "\"As of my last update in October 2023, I don't have specific information about the current status or registration deadlines for the LLM (Large Language Model) Zoomcamp course. The timing and availability for joining such courses can vary depending on the organization offering them.\\n\\nTo find out if it's too late to join the LLM Zoomcamp course, you should:\\n\\n1. **Check the Official Website or Communication Channels**: Look for any announcements or updates regarding enrollment deadlines or late registration policies.\\n\\n2. **Contact the Organizers**: Reach out directly to the organizers or facilitators of the course. They can provide the most accurate and up-to-date information regarding availability and registration.\\n\\n3. **Look for Community Discussions**: If there's a community forum or social media group related to the course, it might have information from other participants or updates from the organizers.\\n\\nIf you provide more specific details about the course provider, I might be able to guide you on where to look for information.\""
      ]
     },
     "execution_count": 8,
     "metadata": {},
     "output_type": "execute_result"
    }
   ],
   "execution_count": 8
  },
  {
   "metadata": {
    "ExecuteTime": {
     "end_time": "2025-06-08T15:02:30.107190Z",
     "start_time": "2025-06-08T15:02:29.058466Z"
    }
   },
   "cell_type": "code",
   "source": [
    "import requests\n",
    "\n",
    "docs_url = 'https://github.com/DataTalksClub/llm-zoomcamp/blob/main/01-intro/documents.json?raw=1'\n",
    "docs_response = requests.get(docs_url)\n",
    "documents_raw = docs_response.json()\n",
    "\n",
    "documents = []\n",
    "\n",
    "for course in documents_raw:\n",
    "    course_name = course['course']\n",
    "\n",
    "    for doc in course['documents']:\n",
    "        doc['course'] = course_name\n",
    "        documents.append(doc)"
   ],
   "id": "edbfbc976df211f2",
   "outputs": [],
   "execution_count": 1
  },
  {
   "metadata": {
    "ExecuteTime": {
     "end_time": "2025-06-08T15:10:02.683528Z",
     "start_time": "2025-06-08T15:10:02.602590Z"
    }
   },
   "cell_type": "code",
   "source": [
    "from elasticsearch import Elasticsearch\n",
    "\n",
    "es_client = Elasticsearch(\n",
    "    \"http://localhost:9200\",\n",
    "    verify_certs=False\n",
    ")\n",
    "\n",
    "print(es_client.info())"
   ],
   "id": "c117189ba383db73",
   "outputs": [
    {
     "name": "stdout",
     "output_type": "stream",
     "text": [
      "{'name': '0b3cfbec6f5f', 'cluster_name': 'docker-cluster', 'cluster_uuid': 'efDPJR5yQIqHUDFVxMkfLQ', 'version': {'number': '8.17.6', 'build_flavor': 'default', 'build_type': 'docker', 'build_hash': 'dbcbbbd0bc4924cfeb28929dc05d82d662c527b7', 'build_date': '2025-04-30T14:07:12.231372970Z', 'build_snapshot': False, 'lucene_version': '9.12.0', 'minimum_wire_compatibility_version': '7.17.0', 'minimum_index_compatibility_version': '7.0.0'}, 'tagline': 'You Know, for Search'}\n"
     ]
    }
   ],
   "execution_count": 4
  },
  {
   "metadata": {
    "ExecuteTime": {
     "end_time": "2025-06-08T15:18:25.211580Z",
     "start_time": "2025-06-08T15:18:25.194197Z"
    }
   },
   "cell_type": "code",
   "source": "documents[:3]",
   "id": "d2d50b6c77e6e0b9",
   "outputs": [
    {
     "data": {
      "text/plain": [
       "[{'text': \"The purpose of this document is to capture frequently asked technical questions\\nThe exact day and hour of the course will be 15th Jan 2024 at 17h00. The course will start with the first  “Office Hours'' live.1\\nSubscribe to course public Google Calendar (it works from Desktop only).\\nRegister before the course starts using this link.\\nJoin the course Telegram channel with announcements.\\nDon’t forget to register in DataTalks.Club's Slack and join the channel.\",\n",
       "  'section': 'General course-related questions',\n",
       "  'question': 'Course - When will the course start?',\n",
       "  'course': 'data-engineering-zoomcamp'},\n",
       " {'text': 'GitHub - DataTalksClub data-engineering-zoomcamp#prerequisites',\n",
       "  'section': 'General course-related questions',\n",
       "  'question': 'Course - What are the prerequisites for this course?',\n",
       "  'course': 'data-engineering-zoomcamp'},\n",
       " {'text': \"Yes, even if you don't register, you're still eligible to submit the homeworks.\\nBe aware, however, that there will be deadlines for turning in the final projects. So don't leave everything for the last minute.\",\n",
       "  'section': 'General course-related questions',\n",
       "  'question': 'Course - Can I still join the course after the start date?',\n",
       "  'course': 'data-engineering-zoomcamp'}]"
      ]
     },
     "execution_count": 7,
     "metadata": {},
     "output_type": "execute_result"
    }
   ],
   "execution_count": 7
  },
  {
   "metadata": {
    "ExecuteTime": {
     "end_time": "2025-06-08T15:30:39.102746Z",
     "start_time": "2025-06-08T15:30:29.254645Z"
    }
   },
   "cell_type": "code",
   "source": [
    "from tqdm.auto import tqdm\n",
    "\n",
    "index_settings = {\n",
    "    \"settings\": {\n",
    "        \"number_of_shards\": 1,\n",
    "        \"number_of_replicas\": 0\n",
    "    },\n",
    "    \"mappings\": {\n",
    "        \"properties\": {\n",
    "            \"text\": {\"type\": \"text\"},\n",
    "            \"section\": {\"type\": \"text\"},\n",
    "            \"question\": {\"type\": \"text\"},\n",
    "            \"course\": {\"type\": \"keyword\"}\n",
    "        }\n",
    "    }\n",
    "}\n",
    "\n",
    "index_name  = \"course-questions\"\n",
    "es_client.indices.create(index=index_name, body=index_settings)\n",
    "\n",
    "for doc in tqdm(documents):\n",
    "    es_client.index(index=index_name, document=doc)"
   ],
   "id": "2f5d8f37bfbe326a",
   "outputs": [
    {
     "name": "stderr",
     "output_type": "stream",
     "text": [
      "/opt/homebrew/Caskroom/miniforge/base/envs/llm_zoomcamp/lib/python3.10/site-packages/tqdm/auto.py:21: TqdmWarning: IProgress not found. Please update jupyter and ipywidgets. See https://ipywidgets.readthedocs.io/en/stable/user_install.html\n",
      "  from .autonotebook import tqdm as notebook_tqdm\n",
      "/var/folders/_r/_94p_t6s1933ynymfxl25_7h0000gn/T/ipykernel_13289/1308179079.py:19: DeprecationWarning: The 'body' parameter is deprecated and will be removed in a future version. Instead use individual parameters.\n",
      "  es_client.indices.create(index=index_name, body=index_settings)\n",
      "100%|██████████| 948/948 [00:07<00:00, 120.58it/s]\n"
     ]
    }
   ],
   "execution_count": 10
  },
  {
   "metadata": {
    "ExecuteTime": {
     "end_time": "2025-06-08T15:53:22.914098Z",
     "start_time": "2025-06-08T15:53:22.779524Z"
    }
   },
   "cell_type": "code",
   "source": [
    "query = 'How do execute a command on a Kubernetes pod?'\n",
    "search_query = {\n",
    "        \"size\": 5,\n",
    "        \"query\": {\n",
    "            \"bool\": {\n",
    "                \"must\": {\n",
    "                    \"multi_match\": {\n",
    "                        \"query\": query,\n",
    "                        \"fields\": [\"question^4\", \"text\"], #Matches in the question field count 4× as much (score-wise) as matches in the text field.\n",
    "                        \"type\": \"best_fields\"\n",
    "                    }\n",
    "                },\n",
    "                #\"filter\": {\n",
    "                #    \"term\": {\n",
    "                #        \"course\": \"data-engineering-zoomcamp\"\n",
    "                #    }\n",
    "                #}\n",
    "            }\n",
    "        }\n",
    "    }\n",
    "\n",
    "response = es_client.search(index=index_name, body=search_query)\n",
    "result_docs = []\n",
    "#print(response)\n",
    "print('___________________')\n",
    "print('Score: ',response['hits']['hits'][0]['_score'])\n",
    "print('Answer: ', response['hits']['hits'][0]['_source'])\n",
    "#for hit in response['hits']['hits']:\n",
    "#    result_docs.append(hit['_source'])"
   ],
   "id": "2e267b5986829db6",
   "outputs": [
    {
     "name": "stdout",
     "output_type": "stream",
     "text": [
      "___________________\n",
      "Score:  44.50556\n",
      "Answer:  {'text': 'Launch the container image in interactive mode and overriding the entrypoint, so that it starts a bash command.\\ndocker run -it --entrypoint bash <image>\\nIf the container is already running, execute a command in the specific container:\\ndocker ps (find the container-id)\\ndocker exec -it <container-id> bash\\n(Marcos MJD)', 'section': '5. Deploying Machine Learning Models', 'question': 'How do I debug a docker container?', 'course': 'machine-learning-zoomcamp'}\n"
     ]
    },
    {
     "name": "stderr",
     "output_type": "stream",
     "text": [
      "/var/folders/_r/_94p_t6s1933ynymfxl25_7h0000gn/T/ipykernel_13289/2364632510.py:22: DeprecationWarning: The 'body' parameter is deprecated and will be removed in a future version. Instead use individual parameters.\n",
      "  response = es_client.search(index=index_name, body=search_query)\n"
     ]
    }
   ],
   "execution_count": 26
  },
  {
   "metadata": {
    "ExecuteTime": {
     "end_time": "2025-06-08T16:31:21.138070Z",
     "start_time": "2025-06-08T16:31:21.033361Z"
    }
   },
   "cell_type": "code",
   "source": [
    "query_2 = 'How do copy a file to a Docker container?'\n",
    "search_query = {\n",
    "        \"size\": 3,\n",
    "        \"query\": {\n",
    "            \"bool\": {\n",
    "                \"must\": {\n",
    "                    \"multi_match\": {\n",
    "                        \"query\": query,\n",
    "                        \"fields\": [\"question^4\", \"text\"],\n",
    "                        \"type\": \"best_fields\"\n",
    "                    }\n",
    "                },\n",
    "                \"filter\": {\n",
    "                    \"term\": {\n",
    "                        \"course\": \"machine-learning-zoomcamp\"\n",
    "                    }\n",
    "                }\n",
    "            }\n",
    "        }\n",
    "    }\n",
    "\n",
    "response = es_client.search(index=index_name, body=search_query)\n",
    "result_docs = []\n",
    "#print(response)\n",
    "print('___________________')\n",
    "for hit in response['hits']['hits']:\n",
    "    source = hit['_source']\n",
    "    question = source['question']\n",
    "    text = source['text']\n",
    "    result_docs.append([question, text])\n",
    "\n",
    "\n",
    "print(*result_docs, sep=\"\\n\")"
   ],
   "id": "c9bb6c4ef0ed6ac6",
   "outputs": [
    {
     "name": "stdout",
     "output_type": "stream",
     "text": [
      "___________________\n",
      "['How do I debug a docker container?', 'Launch the container image in interactive mode and overriding the entrypoint, so that it starts a bash command.\\ndocker run -it --entrypoint bash <image>\\nIf the container is already running, execute a command in the specific container:\\ndocker ps (find the container-id)\\ndocker exec -it <container-id> bash\\n(Marcos MJD)']\n",
      "['Kubernetes-dashboard', 'Deploy and Access the Kubernetes Dashboard\\nLuke']\n",
      "['How do I copy files from a different folder into docker container’s working directory?', 'You can copy files from your local machine into a Docker container using the docker cp command. Here\\'s how to do it:\\nIn the Dockerfile, you can provide the folder containing the files that you want to copy over. The basic syntax is as follows:\\nCOPY [\"src/predict.py\", \"models/xgb_model.bin\", \"./\"]\\t\\t\\t\\t\\t\\t\\t\\t\\t\\t\\tGopakumar Gopinathan']\n"
     ]
    },
    {
     "name": "stderr",
     "output_type": "stream",
     "text": [
      "/var/folders/_r/_94p_t6s1933ynymfxl25_7h0000gn/T/ipykernel_13289/1071363777.py:22: DeprecationWarning: The 'body' parameter is deprecated and will be removed in a future version. Instead use individual parameters.\n",
      "  response = es_client.search(index=index_name, body=search_query)\n"
     ]
    }
   ],
   "execution_count": 42
  },
  {
   "metadata": {
    "ExecuteTime": {
     "end_time": "2025-06-08T17:00:16.319109Z",
     "start_time": "2025-06-08T17:00:16.301356Z"
    }
   },
   "cell_type": "code",
   "source": [
    "context_template = \"\"\"\n",
    "Q: {question}\n",
    "A: {text}\n",
    "\"\"\".strip()\n",
    "\n",
    "\n",
    "context_docs = []\n",
    "for question, text in result_docs:\n",
    "\n",
    "    doc = context_template.format(question=question, text=text).strip()\n",
    "    context_docs.append(doc)\n",
    "\n",
    "context = \"\\n\\n\".join(context_docs)\n",
    "print(context)\n",
    "\n"
   ],
   "id": "e9dc4fc2b74d94d0",
   "outputs": [
    {
     "name": "stdout",
     "output_type": "stream",
     "text": [
      "Q: How do I debug a docker container?\n",
      "A: Launch the container image in interactive mode and overriding the entrypoint, so that it starts a bash command.\n",
      "docker run -it --entrypoint bash <image>\n",
      "If the container is already running, execute a command in the specific container:\n",
      "docker ps (find the container-id)\n",
      "docker exec -it <container-id> bash\n",
      "(Marcos MJD)\n",
      "\n",
      "Q: Kubernetes-dashboard\n",
      "A: Deploy and Access the Kubernetes Dashboard\n",
      "Luke\n",
      "\n",
      "Q: How do I copy files from a different folder into docker container’s working directory?\n",
      "A: You can copy files from your local machine into a Docker container using the docker cp command. Here's how to do it:\n",
      "In the Dockerfile, you can provide the folder containing the files that you want to copy over. The basic syntax is as follows:\n",
      "COPY [\"src/predict.py\", \"models/xgb_model.bin\", \"./\"]\t\t\t\t\t\t\t\t\t\t\tGopakumar Gopinathan\n"
     ]
    }
   ],
   "execution_count": 57
  },
  {
   "metadata": {
    "ExecuteTime": {
     "end_time": "2025-06-08T17:00:30.119119Z",
     "start_time": "2025-06-08T17:00:30.112420Z"
    }
   },
   "cell_type": "code",
   "source": [
    "prompt_template = \"\"\"\n",
    "You're a course teaching assistant. Answer the QUESTION based on the CONTEXT from the FAQ database.\n",
    "Use only the facts from the CONTEXT when answering the QUESTION.\n",
    "\n",
    "QUESTION: {question}\n",
    "\n",
    "CONTEXT:\n",
    "{context}\n",
    "\"\"\".strip()\n",
    "question = 'How do I execute a command in a running docker container?'\n",
    "prompt = (prompt_template.format(question=question, context=context).strip())\n",
    "print(prompt)\n",
    "print(len(prompt))\n"
   ],
   "id": "89348d515f409b68",
   "outputs": [
    {
     "name": "stdout",
     "output_type": "stream",
     "text": [
      "You're a course teaching assistant. Answer the QUESTION based on the CONTEXT from the FAQ database.\n",
      "Use only the facts from the CONTEXT when answering the QUESTION.\n",
      "\n",
      "QUESTION: How do I execute a command in a running docker container?\n",
      "\n",
      "CONTEXT:\n",
      "Q: How do I debug a docker container?\n",
      "A: Launch the container image in interactive mode and overriding the entrypoint, so that it starts a bash command.\n",
      "docker run -it --entrypoint bash <image>\n",
      "If the container is already running, execute a command in the specific container:\n",
      "docker ps (find the container-id)\n",
      "docker exec -it <container-id> bash\n",
      "(Marcos MJD)\n",
      "\n",
      "Q: Kubernetes-dashboard\n",
      "A: Deploy and Access the Kubernetes Dashboard\n",
      "Luke\n",
      "\n",
      "Q: How do I copy files from a different folder into docker container’s working directory?\n",
      "A: You can copy files from your local machine into a Docker container using the docker cp command. Here's how to do it:\n",
      "In the Dockerfile, you can provide the folder containing the files that you want to copy over. The basic syntax is as follows:\n",
      "COPY [\"src/predict.py\", \"models/xgb_model.bin\", \"./\"]\t\t\t\t\t\t\t\t\t\t\tGopakumar Gopinathan\n",
      "1101\n"
     ]
    }
   ],
   "execution_count": 58
  },
  {
   "metadata": {
    "ExecuteTime": {
     "end_time": "2025-06-08T17:07:29.846511Z",
     "start_time": "2025-06-08T17:07:29.827710Z"
    }
   },
   "cell_type": "code",
   "source": [
    "import tiktoken\n",
    "\n",
    "encoding = tiktoken.encoding_for_model(\"gpt-4o\")\n",
    "enc_prompt = encoding.encode(prompt)\n",
    "print(len(enc_prompt))\n",
    "\n"
   ],
   "id": "8348212a58ddbfdb",
   "outputs": [
    {
     "name": "stdout",
     "output_type": "stream",
     "text": [
      "242\n"
     ]
    }
   ],
   "execution_count": 61
  }
 ],
 "metadata": {
  "kernelspec": {
   "display_name": "Python 3",
   "language": "python",
   "name": "python3"
  },
  "language_info": {
   "codemirror_mode": {
    "name": "ipython",
    "version": 2
   },
   "file_extension": ".py",
   "mimetype": "text/x-python",
   "name": "python",
   "nbconvert_exporter": "python",
   "pygments_lexer": "ipython2",
   "version": "2.7.6"
  }
 },
 "nbformat": 4,
 "nbformat_minor": 5
}
